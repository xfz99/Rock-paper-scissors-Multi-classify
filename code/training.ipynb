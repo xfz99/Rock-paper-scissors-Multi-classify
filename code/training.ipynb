{
 "cells": [
  {
   "cell_type": "code",
   "execution_count": 1,
   "metadata": {
    "scrolled": true
   },
   "outputs": [
    {
     "name": "stderr",
     "output_type": "stream",
     "text": [
      "e:\\ProgramData\\Anaconda3\\lib\\site-packages\\tensorflow\\python\\framework\\dtypes.py:516: FutureWarning: Passing (type, 1) or '1type' as a synonym of type is deprecated; in a future version of numpy, it will be understood as (type, (1,)) / '(1,)type'.\n",
      "  _np_qint8 = np.dtype([(\"qint8\", np.int8, 1)])\n",
      "e:\\ProgramData\\Anaconda3\\lib\\site-packages\\tensorflow\\python\\framework\\dtypes.py:517: FutureWarning: Passing (type, 1) or '1type' as a synonym of type is deprecated; in a future version of numpy, it will be understood as (type, (1,)) / '(1,)type'.\n",
      "  _np_quint8 = np.dtype([(\"quint8\", np.uint8, 1)])\n",
      "e:\\ProgramData\\Anaconda3\\lib\\site-packages\\tensorflow\\python\\framework\\dtypes.py:518: FutureWarning: Passing (type, 1) or '1type' as a synonym of type is deprecated; in a future version of numpy, it will be understood as (type, (1,)) / '(1,)type'.\n",
      "  _np_qint16 = np.dtype([(\"qint16\", np.int16, 1)])\n",
      "e:\\ProgramData\\Anaconda3\\lib\\site-packages\\tensorflow\\python\\framework\\dtypes.py:519: FutureWarning: Passing (type, 1) or '1type' as a synonym of type is deprecated; in a future version of numpy, it will be understood as (type, (1,)) / '(1,)type'.\n",
      "  _np_quint16 = np.dtype([(\"quint16\", np.uint16, 1)])\n",
      "e:\\ProgramData\\Anaconda3\\lib\\site-packages\\tensorflow\\python\\framework\\dtypes.py:520: FutureWarning: Passing (type, 1) or '1type' as a synonym of type is deprecated; in a future version of numpy, it will be understood as (type, (1,)) / '(1,)type'.\n",
      "  _np_qint32 = np.dtype([(\"qint32\", np.int32, 1)])\n",
      "e:\\ProgramData\\Anaconda3\\lib\\site-packages\\tensorflow\\python\\framework\\dtypes.py:525: FutureWarning: Passing (type, 1) or '1type' as a synonym of type is deprecated; in a future version of numpy, it will be understood as (type, (1,)) / '(1,)type'.\n",
      "  np_resource = np.dtype([(\"resource\", np.ubyte, 1)])\n",
      "e:\\ProgramData\\Anaconda3\\lib\\site-packages\\tensorboard\\compat\\tensorflow_stub\\dtypes.py:541: FutureWarning: Passing (type, 1) or '1type' as a synonym of type is deprecated; in a future version of numpy, it will be understood as (type, (1,)) / '(1,)type'.\n",
      "  _np_qint8 = np.dtype([(\"qint8\", np.int8, 1)])\n",
      "e:\\ProgramData\\Anaconda3\\lib\\site-packages\\tensorboard\\compat\\tensorflow_stub\\dtypes.py:542: FutureWarning: Passing (type, 1) or '1type' as a synonym of type is deprecated; in a future version of numpy, it will be understood as (type, (1,)) / '(1,)type'.\n",
      "  _np_quint8 = np.dtype([(\"quint8\", np.uint8, 1)])\n",
      "e:\\ProgramData\\Anaconda3\\lib\\site-packages\\tensorboard\\compat\\tensorflow_stub\\dtypes.py:543: FutureWarning: Passing (type, 1) or '1type' as a synonym of type is deprecated; in a future version of numpy, it will be understood as (type, (1,)) / '(1,)type'.\n",
      "  _np_qint16 = np.dtype([(\"qint16\", np.int16, 1)])\n",
      "e:\\ProgramData\\Anaconda3\\lib\\site-packages\\tensorboard\\compat\\tensorflow_stub\\dtypes.py:544: FutureWarning: Passing (type, 1) or '1type' as a synonym of type is deprecated; in a future version of numpy, it will be understood as (type, (1,)) / '(1,)type'.\n",
      "  _np_quint16 = np.dtype([(\"quint16\", np.uint16, 1)])\n",
      "e:\\ProgramData\\Anaconda3\\lib\\site-packages\\tensorboard\\compat\\tensorflow_stub\\dtypes.py:545: FutureWarning: Passing (type, 1) or '1type' as a synonym of type is deprecated; in a future version of numpy, it will be understood as (type, (1,)) / '(1,)type'.\n",
      "  _np_qint32 = np.dtype([(\"qint32\", np.int32, 1)])\n",
      "e:\\ProgramData\\Anaconda3\\lib\\site-packages\\tensorboard\\compat\\tensorflow_stub\\dtypes.py:550: FutureWarning: Passing (type, 1) or '1type' as a synonym of type is deprecated; in a future version of numpy, it will be understood as (type, (1,)) / '(1,)type'.\n",
      "  np_resource = np.dtype([(\"resource\", np.ubyte, 1)])\n"
     ]
    },
    {
     "name": "stdout",
     "output_type": "stream",
     "text": [
      "Found 2564 images belonging to 3 classes.\n",
      "Found 390 images belonging to 3 classes.\n",
      "ok\n"
     ]
    }
   ],
   "source": [
    "import tensorflow as tf\n",
    "from keras_preprocessing.image import ImageDataGenerator\n",
    "import zipfile\n",
    "local_zip1 = 'rps.zip'\n",
    "zip_ref1 = zipfile.ZipFile(local_zip1, 'r')\n",
    "zip_ref1.extractall('/tmp1/')\n",
    "zip_ref1.close()\n",
    "\n",
    "local_zip2 = 'rps-test-set.zip'\n",
    "zip_ref2 = zipfile.ZipFile(local_zip2, 'r')\n",
    "zip_ref2.extractall('/tmp2/')\n",
    "zip_ref2.close()\n",
    " \n",
    "training_datagen = ImageDataGenerator(\n",
    "      rescale = 1./255,\n",
    "\t  rotation_range=40,\n",
    "      width_shift_range=0.2,\n",
    "      height_shift_range=0.2,\n",
    "      shear_range=0.2,\n",
    "      zoom_range=0.2,\n",
    "      horizontal_flip=True,\n",
    "      fill_mode='nearest')\n",
    " \n",
    "validation_datagen = ImageDataGenerator(rescale = 1./255)\n",
    " \n",
    "train_generator = training_datagen.flow_from_directory(\n",
    "\t\"/tmp1/\",\n",
    "\ttarget_size=(150,150),\n",
    "\tclass_mode='categorical'\n",
    ")\n",
    " \n",
    "validation_generator = validation_datagen.flow_from_directory(\n",
    "\t\"/tmp2/\",\n",
    "\ttarget_size=(150,150),\n",
    "\tclass_mode='categorical'\n",
    ")\n",
    " \n",
    "print('ok')"
   ]
  },
  {
   "cell_type": "code",
   "execution_count": 2,
   "metadata": {
    "scrolled": true
   },
   "outputs": [
    {
     "name": "stdout",
     "output_type": "stream",
     "text": [
      "WARNING:tensorflow:From e:\\ProgramData\\Anaconda3\\lib\\site-packages\\tensorflow\\python\\ops\\init_ops.py:1251: calling VarianceScaling.__init__ (from tensorflow.python.ops.init_ops) with dtype is deprecated and will be removed in a future version.\n",
      "Instructions for updating:\n",
      "Call initializer instance with the dtype argument instead of passing it to the constructor\n",
      "Model: \"sequential\"\n",
      "_________________________________________________________________\n",
      "Layer (type)                 Output Shape              Param #   \n",
      "=================================================================\n",
      "conv2d (Conv2D)              (None, 148, 148, 64)      1792      \n",
      "_________________________________________________________________\n",
      "max_pooling2d (MaxPooling2D) (None, 74, 74, 64)        0         \n",
      "_________________________________________________________________\n",
      "conv2d_1 (Conv2D)            (None, 72, 72, 64)        36928     \n",
      "_________________________________________________________________\n",
      "max_pooling2d_1 (MaxPooling2 (None, 36, 36, 64)        0         \n",
      "_________________________________________________________________\n",
      "conv2d_2 (Conv2D)            (None, 34, 34, 128)       73856     \n",
      "_________________________________________________________________\n",
      "max_pooling2d_2 (MaxPooling2 (None, 17, 17, 128)       0         \n",
      "_________________________________________________________________\n",
      "conv2d_3 (Conv2D)            (None, 15, 15, 128)       147584    \n",
      "_________________________________________________________________\n",
      "max_pooling2d_3 (MaxPooling2 (None, 7, 7, 128)         0         \n",
      "_________________________________________________________________\n",
      "conv2d_4 (Conv2D)            (None, 3, 3, 256)         819456    \n",
      "_________________________________________________________________\n",
      "max_pooling2d_4 (MaxPooling2 (None, 1, 1, 256)         0         \n",
      "_________________________________________________________________\n",
      "flatten (Flatten)            (None, 256)               0         \n",
      "_________________________________________________________________\n",
      "dense (Dense)                (None, 512)               131584    \n",
      "_________________________________________________________________\n",
      "dropout (Dropout)            (None, 512)               0         \n",
      "_________________________________________________________________\n",
      "dense_1 (Dense)              (None, 128)               65664     \n",
      "_________________________________________________________________\n",
      "dense_2 (Dense)              (None, 3)                 387       \n",
      "=================================================================\n",
      "Total params: 1,277,251\n",
      "Trainable params: 1,277,251\n",
      "Non-trainable params: 0\n",
      "_________________________________________________________________\n",
      "Epoch 1/24\n",
      "81/81 [==============================] - 135s 2s/step - loss: 1.6852 - acc: 0.4587 - val_loss: 0.7983 - val_acc: 0.7308\n",
      "Epoch 2/24\n",
      "81/81 [==============================] - 121s 1s/step - loss: 0.8309 - acc: 0.6299 - val_loss: 0.5712 - val_acc: 0.8846\n",
      "Epoch 3/24\n",
      "81/81 [==============================] - 123s 2s/step - loss: 0.6345 - acc: 0.7629 - val_loss: 0.2002 - val_acc: 0.9564\n",
      "Epoch 4/24\n",
      "81/81 [==============================] - 121s 1s/step - loss: 0.4628 - acc: 0.8378 - val_loss: 0.2788 - val_acc: 0.9231\n",
      "Epoch 5/24\n",
      "81/81 [==============================] - 119s 1s/step - loss: 0.3952 - acc: 0.8658 - val_loss: 0.1264 - val_acc: 0.9667\n",
      "Epoch 6/24\n",
      "81/81 [==============================] - 120s 1s/step - loss: 0.3429 - acc: 0.8877 - val_loss: 0.0917 - val_acc: 0.9744\n",
      "Epoch 7/24\n",
      "81/81 [==============================] - 122s 2s/step - loss: 0.3206 - acc: 0.8881 - val_loss: 0.2040 - val_acc: 0.9538\n",
      "Epoch 8/24\n",
      "81/81 [==============================] - 122s 2s/step - loss: 0.3101 - acc: 0.9002 - val_loss: 0.0997 - val_acc: 0.9744\n",
      "Epoch 9/24\n",
      "81/81 [==============================] - 114s 1s/step - loss: 0.2951 - acc: 0.8963 - val_loss: 0.1558 - val_acc: 0.9667\n",
      "Epoch 10/24\n",
      "81/81 [==============================] - 120s 1s/step - loss: 0.2734 - acc: 0.9115 - val_loss: 0.3510 - val_acc: 0.9513\n",
      "Epoch 11/24\n",
      "81/81 [==============================] - 119s 1s/step - loss: 0.2492 - acc: 0.9126 - val_loss: 0.1138 - val_acc: 0.9692\n",
      "Epoch 12/24\n",
      "81/81 [==============================] - 117s 1s/step - loss: 0.2473 - acc: 0.9204 - val_loss: 0.0487 - val_acc: 0.9846\n",
      "Epoch 13/24\n",
      "81/81 [==============================] - 118s 1s/step - loss: 0.2553 - acc: 0.9142 - val_loss: 1.2587 - val_acc: 0.7590\n",
      "Epoch 14/24\n",
      "81/81 [==============================] - 117s 1s/step - loss: 0.2294 - acc: 0.9263 - val_loss: 0.2556 - val_acc: 0.9462\n",
      "Epoch 15/24\n",
      "81/81 [==============================] - 117s 1s/step - loss: 0.2131 - acc: 0.9325 - val_loss: 0.5790 - val_acc: 0.8897\n",
      "Epoch 16/24\n",
      "81/81 [==============================] - 118s 1s/step - loss: 0.2094 - acc: 0.9411 - val_loss: 0.0475 - val_acc: 0.9846\n",
      "Epoch 17/24\n",
      "81/81 [==============================] - 118s 1s/step - loss: 0.1979 - acc: 0.9349 - val_loss: 0.0402 - val_acc: 0.9846\n",
      "Epoch 18/24\n",
      "81/81 [==============================] - 113s 1s/step - loss: 0.2083 - acc: 0.9341 - val_loss: 0.1462 - val_acc: 0.9795\n",
      "Epoch 19/24\n",
      "81/81 [==============================] - 114s 1s/step - loss: 0.1967 - acc: 0.9368 - val_loss: 0.0257 - val_acc: 1.0000\n",
      "Epoch 20/24\n",
      "81/81 [==============================] - 115s 1s/step - loss: 0.1977 - acc: 0.9372 - val_loss: 0.1152 - val_acc: 0.9718\n",
      "Epoch 21/24\n",
      "81/81 [==============================] - 116s 1s/step - loss: 0.1742 - acc: 0.9466 - val_loss: 0.1110 - val_acc: 0.9769\n",
      "Epoch 22/24\n",
      "81/81 [==============================] - 119s 1s/step - loss: 0.1911 - acc: 0.9376 - val_loss: 0.0832 - val_acc: 0.9769\n",
      "Epoch 23/24\n",
      "81/81 [==============================] - 116s 1s/step - loss: 0.1947 - acc: 0.9395 - val_loss: 0.0552 - val_acc: 0.9769\n",
      "Epoch 24/24\n",
      "81/81 [==============================] - 119s 1s/step - loss: 0.1905 - acc: 0.9399 - val_loss: 0.0573 - val_acc: 0.9795\n"
     ]
    }
   ],
   "source": [
    "model = tf.keras.models.Sequential([\n",
    "    tf.keras.layers.Conv2D(64, (3,3), activation='relu', input_shape=(150, 150, 3)),\n",
    "    tf.keras.layers.MaxPooling2D(2, 2),\n",
    "    tf.keras.layers.Conv2D(64, (3,3), activation='relu'),\n",
    "    tf.keras.layers.MaxPooling2D(2,2),\n",
    "    tf.keras.layers.Conv2D(128, (3,3), activation='relu'),\n",
    "    tf.keras.layers.MaxPooling2D(2,2),\n",
    "    tf.keras.layers.Conv2D(128, (3,3), activation='relu'),\n",
    "    tf.keras.layers.MaxPooling2D(2,2),\n",
    "    tf.keras.layers.Conv2D(256, (5,5), activation='relu'),\n",
    "    tf.keras.layers.MaxPooling2D(2,2),\n",
    "    tf.keras.layers.Flatten(),\n",
    "    tf.keras.layers.Dense(512, activation='relu'),\n",
    "    tf.keras.layers.Dropout(0.5),\n",
    "    tf.keras.layers.Dense(128, activation='relu', kernel_regularizer=tf.keras.regularizers.l2(0.01)),\n",
    "    tf.keras.layers.Dense(3, activation='softmax')\n",
    "])\n",
    "model.summary()\n",
    "\n",
    " \n",
    "model.compile(loss = 'categorical_crossentropy', optimizer='rmsprop', metrics=['accuracy'])\n",
    "history = model.fit_generator(train_generator, epochs=24,validation_data = validation_generator, verbose = 1)\n",
    " \n"
   ]
  },
  {
   "cell_type": "code",
   "execution_count": 3,
   "metadata": {},
   "outputs": [
    {
     "name": "stdout",
     "output_type": "stream",
     "text": [
      "finish\n"
     ]
    }
   ],
   "source": [
    "model.save(\"rps16.h5\")\n",
    "print(\"finish\")"
   ]
  },
  {
   "cell_type": "code",
   "execution_count": null,
   "metadata": {},
   "outputs": [],
   "source": []
  }
 ],
 "metadata": {
  "kernelspec": {
   "display_name": "Python 3",
   "language": "python",
   "name": "python3"
  },
  "language_info": {
   "codemirror_mode": {
    "name": "ipython",
    "version": 3
   },
   "file_extension": ".py",
   "mimetype": "text/x-python",
   "name": "python",
   "nbconvert_exporter": "python",
   "pygments_lexer": "ipython3",
   "version": "3.7.3"
  }
 },
 "nbformat": 4,
 "nbformat_minor": 2
}
